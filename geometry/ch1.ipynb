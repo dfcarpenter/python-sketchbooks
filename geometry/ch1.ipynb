{
 "cells": [
  {
   "cell_type": "code",
   "execution_count": 4,
   "metadata": {},
   "outputs": [
    {
     "name": "stdout",
     "output_type": "stream",
     "text": [
      "\\left\\{ Va : \\frac{D}{Vpx t + t}, \\  Vp : \\frac{D Vpx}{Vpx t + t}\\right\\}\n"
     ]
    }
   ],
   "source": [
    "from sympy import * \n",
    "\n",
    "Va, Vp, Vpx, D, t = symbols('Va Vp Vpx D t') # Vpx is ratio Vp/Va\n",
    "\n",
    "solution = solve([\n",
    "    Vp - Va * Vpx,\n",
    "    Va * t + Vp * t - D\n",
    "], [Va, Vp])\n",
    "\n",
    "print(latex(solution))"
   ]
  }
 ],
 "metadata": {
  "kernelspec": {
   "display_name": ".venv",
   "language": "python",
   "name": "python3"
  },
  "language_info": {
   "codemirror_mode": {
    "name": "ipython",
    "version": 3
   },
   "file_extension": ".py",
   "mimetype": "text/x-python",
   "name": "python",
   "nbconvert_exporter": "python",
   "pygments_lexer": "ipython3",
   "version": "3.11.0"
  },
  "orig_nbformat": 4,
  "vscode": {
   "interpreter": {
    "hash": "c5fa4defb31469f77db937562142deaa44bdbe5fbfb3246b31429449ccfe7e69"
   }
  }
 },
 "nbformat": 4,
 "nbformat_minor": 2
}
